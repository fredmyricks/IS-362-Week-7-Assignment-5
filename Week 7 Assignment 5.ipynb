import pandas as pd

# User ratings for movies
data = {
    'User': ['Fred', 'Mark', 'Paul', 'Mayweather', 'Kin'],
    'Avartar': [5, 4, 3, 2, 4],
    'Passion of Christ': [4, 3, 5, 3, None],
    'Apostle Paul': [3, 2, 4, None, 5],
    'The 12': [2, 5, None, 4, 3],
    'Forrest Gump': [4, None, 2, 3, 4]
}

# Create DataFrame
df = pd.DataFrame(data)

# Save DataFrame to CSV file
df.to_csv('movie_ratings.csv', index=False)

#%%
# Load data into pandas DataFrame
df = pd.read_csv('movie_ratings.csv')

# Show average ratings for each user and each movie
user_avg_ratings = df.mean(axis=1, skipna=True)  # skip missing values
movie_avg_ratings = df.mean(axis=0, skipna=True)  # skip missing values

print("Average Ratings by User:")
print(user_avg_ratings)

print("\nAverage Ratings for Each Movie:")
print(movie_avg_ratings)


# Normalize ratings
df_normalized = (df - df.min()) / (df.max() - df.min())

# Show average normalized ratings for each user and each movie
user_avg_normalized_ratings = df_normalized.mean(axis=1)
movie_avg_normalized_ratings = df_normalized.mean(axis=0)

print("\nAverage Normalized Ratings by User:")
print(user_avg_normalized_ratings)

print("\nAverage Normalized Ratings for Each Movie:")
print(movie_avg_normalized_ratings)

#%%
# Standardize ratings
df_standardized = (df - df.mean()) / df.std()

# Show average standardized ratings for each user and each movie
user_avg_standardized_ratings = df_standardized.mean(axis=1)
movie_avg_standardized_ratings = df_standardized.mean(axis=0)

print("\nAverage Standardized Ratings by User:")
print(user_avg_standardized_ratings)

print("\nAverage Standardized Ratings for Each Movie:")
print(movie_avg_standardized_ratings)
